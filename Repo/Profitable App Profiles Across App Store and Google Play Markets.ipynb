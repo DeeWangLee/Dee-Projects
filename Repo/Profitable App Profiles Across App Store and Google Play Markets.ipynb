{
 "cells": [
  {
   "cell_type": "markdown",
   "metadata": {},
   "source": [
    "# Profitable App Profiles across App Store and Google Play Markets\n",
    "#### The goal of the project is to gain insights on exiting app products and understand what type of apps are likely to attract more users."
   ]
  },
  {
   "cell_type": "markdown",
   "metadata": {},
   "source": [
    "#### Apple Store data:\n",
    "Source of data: \n",
    "\n",
    "Data documentation:"
   ]
  },
  {
   "cell_type": "code",
   "execution_count": 1,
   "metadata": {},
   "outputs": [],
   "source": [
    "# open apple store file\n",
    "open_file = open(\"AppleStore.csv\", encoding = 'UTF-8')\n",
    "from csv import reader\n",
    "read_file = reader(open_file)\n",
    "apple_app = list(read_file)\n"
   ]
  },
  {
   "cell_type": "code",
   "execution_count": 2,
   "metadata": {},
   "outputs": [],
   "source": [
    "#open Google Play file \n",
    "open_file = open(\"googleplaystore.csv\", encoding = 'UTF-8')\n",
    "from csv import reader\n",
    "read_file = reader(open_file)\n",
    "google_app = list(read_file)\n"
   ]
  },
  {
   "cell_type": "code",
   "execution_count": 3,
   "metadata": {},
   "outputs": [],
   "source": [
    "def explore_data(dataset, start, end, rows_and_columns=True):\n",
    "    dataset_slice = dataset[start:end]    \n",
    "    for row in dataset_slice:\n",
    "        print(row)\n",
    "        print('\\n') # adds a new (empty) line after each row\n",
    "\n",
    "    if rows_and_columns:\n",
    "        print('Number of rows:', len(dataset))\n",
    "        print('Number of columns:', len(dataset[0]))"
   ]
  },
  {
   "cell_type": "code",
   "execution_count": 4,
   "metadata": {},
   "outputs": [
    {
     "name": "stdout",
     "output_type": "stream",
     "text": [
      "['id', 'track_name', 'size_bytes', 'currency', 'price', 'rating_count_tot', 'rating_count_ver', 'user_rating', 'user_rating_ver', 'ver', 'cont_rating', 'prime_genre', 'sup_devices.num', 'ipadSc_urls.num', 'lang.num', 'vpp_lic']\n",
      "\n",
      "\n",
      "['284882215', 'Facebook', '389879808', 'USD', '0.0', '2974676', '212', '3.5', '3.5', '95.0', '4+', 'Social Networking', '37', '1', '29', '1']\n",
      "\n",
      "\n",
      "['389801252', 'Instagram', '113954816', 'USD', '0.0', '2161558', '1289', '4.5', '4.0', '10.23', '12+', 'Photo & Video', '37', '0', '29', '1']\n",
      "\n",
      "\n",
      "Number of rows: 7198\n",
      "Number of columns: 16\n"
     ]
    }
   ],
   "source": [
    "explore_data(apple_app, 0, 3, rows_and_columns=True)"
   ]
  },
  {
   "cell_type": "code",
   "execution_count": 47,
   "metadata": {},
   "outputs": [
    {
     "name": "stdout",
     "output_type": "stream",
     "text": [
      "['App', 'Category', 'Rating', 'Reviews', 'Size', 'Installs', 'Type', 'Price', 'Content Rating', 'Genres', 'Last Updated', 'Current Ver', 'Android Ver']\n",
      "\n",
      "\n",
      "['Photo Editor & Candy Camera & Grid & ScrapBook', 'ART_AND_DESIGN', '4.1', '159', '19M', '10,000+', 'Free', '0', 'Everyone', 'Art & Design', 'January 7, 2018', '1.0.0', '4.0.3 and up']\n",
      "\n",
      "\n",
      "['Coloring book moana', 'ART_AND_DESIGN', '3.9', '967', '14M', '500,000+', 'Free', '0', 'Everyone', 'Art & Design;Pretend Play', 'January 15, 2018', '2.0.0', '4.0.3 and up']\n",
      "\n",
      "\n",
      "Number of rows: 10841\n",
      "Number of columns: 13\n"
     ]
    }
   ],
   "source": [
    "explore_data(google_app, 0, 3, rows_and_columns=True)"
   ]
  },
  {
   "cell_type": "code",
   "execution_count": 6,
   "metadata": {},
   "outputs": [
    {
     "name": "stdout",
     "output_type": "stream",
     "text": [
      "[['Xposed Wi-Fi-Pwd', 'PERSONALIZATION', '3.5', '1042', '404k', '100,000+', 'Free', '0', 'Everyone', 'Personalization', 'August 5, 2014', '3.0.0', '4.0.3 and up'], ['osmino Wi-Fi: free WiFi', 'TOOLS', '4.2', '134203', '4.1M', '10,000,000+', 'Free', '0', 'Everyone', 'Tools', 'August 7, 2018', '6.06.14', '4.4 and up']]\n"
     ]
    }
   ],
   "source": [
    "# row 10473 (including header) has a missing category value, therefore we delete the row \n",
    "# del google_app[10473]\n",
    "print(google_app[10472:10474])"
   ]
  },
  {
   "cell_type": "code",
   "execution_count": 7,
   "metadata": {},
   "outputs": [],
   "source": [
    "# create a function to detect if there is any duplicate entry\n",
    "def duplicate_detect (data_set, index):\n",
    "    non_duplicate_data = []\n",
    "    duplicate_data = []\n",
    "    for row in data_set:\n",
    "        app_name = row[index]\n",
    "        if app_name not in non_duplicate_data:\n",
    "            non_duplicate_data.append(app_name)\n",
    "        else:\n",
    "            duplicate_data.append(app_name)      \n",
    "    return duplicate_data"
   ]
  },
  {
   "cell_type": "code",
   "execution_count": 8,
   "metadata": {},
   "outputs": [],
   "source": [
    "# duplication in google_app\n",
    "duplicate_data = duplicate_detect(google_app, 0)"
   ]
  },
  {
   "cell_type": "code",
   "execution_count": 9,
   "metadata": {},
   "outputs": [
    {
     "name": "stdout",
     "output_type": "stream",
     "text": [
      "The number of duplicate entry is  1181\n"
     ]
    }
   ],
   "source": [
    "print(\"The number of duplicate entry is \", len(duplicate_data))"
   ]
  },
  {
   "cell_type": "code",
   "execution_count": 10,
   "metadata": {},
   "outputs": [
    {
     "name": "stdout",
     "output_type": "stream",
     "text": [
      "Example of cuplicate data:  ['Quick PDF Scanner + OCR FREE', 'Box', 'Google My Business', 'ZOOM Cloud Meetings', 'join.me - Simple Meetings', 'Box']\n"
     ]
    }
   ],
   "source": [
    "print('Example of cuplicate data: ', duplicate_data[:6])"
   ]
  },
  {
   "cell_type": "code",
   "execution_count": 11,
   "metadata": {},
   "outputs": [],
   "source": [
    "def duplicate_verification(data_set, name):\n",
    "    result = []\n",
    "    for row in google_app:\n",
    "        app_name = row[0] \n",
    "        if app_name == name:\n",
    "            result.append(row)\n",
    "    return result"
   ]
  },
  {
   "cell_type": "code",
   "execution_count": 12,
   "metadata": {},
   "outputs": [
    {
     "name": "stdout",
     "output_type": "stream",
     "text": [
      "[['Instagram', 'SOCIAL', '4.5', '66577313', 'Varies with device', '1,000,000,000+', 'Free', '0', 'Teen', 'Social', 'July 31, 2018', 'Varies with device', 'Varies with device'], ['Instagram', 'SOCIAL', '4.5', '66577446', 'Varies with device', '1,000,000,000+', 'Free', '0', 'Teen', 'Social', 'July 31, 2018', 'Varies with device', 'Varies with device'], ['Instagram', 'SOCIAL', '4.5', '66577313', 'Varies with device', '1,000,000,000+', 'Free', '0', 'Teen', 'Social', 'July 31, 2018', 'Varies with device', 'Varies with device'], ['Instagram', 'SOCIAL', '4.5', '66509917', 'Varies with device', '1,000,000,000+', 'Free', '0', 'Teen', 'Social', 'July 31, 2018', 'Varies with device', 'Varies with device']]\n"
     ]
    }
   ],
   "source": [
    "# We plan to remove duplicate entries by using number of reviews as criterion -- \n",
    "# We found that some of the duplicate entries have different value in the forth column, number of review. \n",
    "# Therefore, we will keep the entry for the same app with the most reviews and remove the older ones. \n",
    "# Below is a demonstration: \n",
    "print(duplicate_verification(google_app, 'Instagram'))"
   ]
  },
  {
   "cell_type": "code",
   "execution_count": 13,
   "metadata": {},
   "outputs": [],
   "source": [
    "# create a function to collect the index of duplicate enties\n",
    "def duplicate_remove (data_set, index1, index2):\n",
    "    row_to_keep = {}\n",
    "    row_to_remove = []\n",
    "    for row in data_set:\n",
    "        app_name = row[index1]\n",
    "        review_count = int(row[index2])\n",
    "        row_number = data_set.index(row)\n",
    "        # print('review count ', review_count)\n",
    "        if app_name not in row_to_keep:\n",
    "            row_to_keep[app_name] = [review_count, row_number]\n",
    "            # print('row_to_keep is ', row_to_keep)\n",
    "        else:\n",
    "            if review_count > row_to_keep[app_name][0]:\n",
    "                # print('current review count is ', row_to_keep[app_name][0])\n",
    "                row_to_remove.append(data_set[row_to_keep[app_name][1]])\n",
    "                row_to_keep[app_name] = [review_count, row_number]\n",
    "                # print('row to remove update', row_to_remove)\n",
    "            else:\n",
    "                row_to_remove.append(row)\n",
    "                # print('row to remove ', row_to_remove)\n",
    "    return row_to_keep"
   ]
  },
  {
   "cell_type": "code",
   "execution_count": 14,
   "metadata": {},
   "outputs": [],
   "source": [
    "# test the duplicate remove function with a smaller data set \n",
    "data_set = [['Instagram', 'SOCIAL', '4.5', '66577313', 'Varies with device', '1,000,000,000+', 'Free', '0', 'Teen', 'Social', 'July 31, 2018', 'Varies with device', 'Varies with device'], ['Instagram', 'SOCIAL', '4.5', '66577446', 'Varies with device', '1,000,000,000+', 'Free', '0', 'Teen', 'Social', 'July 31, 2018', 'Varies with device', 'Varies with device'], ['Instagram', 'SOCIAL', '4.5', '66577313', 'Varies with device', '1,000,000,000+', 'Free', '0', 'Teen', 'Social', 'July 31, 2018', 'Varies with device', 'Varies with device'], ['Instagram', 'SOCIAL', '4.5', '66509917', 'Varies with device', '1,000,000,000+', 'Free', '0', 'Teen', 'Social', 'July 31, 2018', 'Varies with device', 'Varies with device']]"
   ]
  },
  {
   "cell_type": "code",
   "execution_count": 15,
   "metadata": {},
   "outputs": [
    {
     "data": {
      "text/plain": [
       "{'Instagram': [66577446, 1]}"
      ]
     },
     "execution_count": 15,
     "metadata": {},
     "output_type": "execute_result"
    }
   ],
   "source": [
    "# test the duplicate remove function with a smaller data set \n",
    "duplicate_remove(data_set, 0, 3)"
   ]
  },
  {
   "cell_type": "code",
   "execution_count": 16,
   "metadata": {},
   "outputs": [],
   "source": [
    "google_to_keep = duplicate_remove(google_app[1:], 0, 3)"
   ]
  },
  {
   "cell_type": "code",
   "execution_count": 17,
   "metadata": {},
   "outputs": [
    {
     "data": {
      "text/plain": [
       "9659"
      ]
     },
     "execution_count": 17,
     "metadata": {},
     "output_type": "execute_result"
    }
   ],
   "source": [
    "len(google_to_keep)"
   ]
  },
  {
   "cell_type": "code",
   "execution_count": 18,
   "metadata": {},
   "outputs": [],
   "source": [
    "def deduplicate (data_set, row_to_keep):\n",
    "    data_clean = []\n",
    "    entered = set()\n",
    "    for row in data_set:\n",
    "        app_name = row[0]\n",
    "        review_count = int(row[3])\n",
    "        #print(row_to_keep[app_name][0])\n",
    "        if app_name not in entered and review_count == int(row_to_keep[app_name][0]):\n",
    "            data_clean.append(row)\n",
    "            entered.add(app_name)\n",
    "    return data_clean\n",
    "            "
   ]
  },
  {
   "cell_type": "code",
   "execution_count": 19,
   "metadata": {},
   "outputs": [],
   "source": [
    "google_clean = deduplicate(google_app[1:], google_to_keep)"
   ]
  },
  {
   "cell_type": "code",
   "execution_count": 20,
   "metadata": {},
   "outputs": [
    {
     "data": {
      "text/plain": [
       "9659"
      ]
     },
     "execution_count": 20,
     "metadata": {},
     "output_type": "execute_result"
    }
   ],
   "source": [
    "len(google_clean)"
   ]
  },
  {
   "cell_type": "code",
   "execution_count": 21,
   "metadata": {},
   "outputs": [
    {
     "name": "stdout",
     "output_type": "stream",
     "text": [
      "0\n"
     ]
    }
   ],
   "source": [
    "# check if there's any duplicate left \n",
    "duplicate_data_1 = duplicate_detect(google_clean, 0)\n",
    "print(len(duplicate_data_1))"
   ]
  },
  {
   "cell_type": "code",
   "execution_count": 22,
   "metadata": {},
   "outputs": [],
   "source": [
    "def check_char(data_set, index):\n",
    "    data_clean_foreign = set()\n",
    "    for row in data_set:\n",
    "        char_count = 0\n",
    "        for char in row[index]:\n",
    "                if ord(char) > 127:\n",
    "                    char_count += 1\n",
    "        if char_count > 3:\n",
    "            data_clean_foreign.add(row[0])\n",
    "                    \n",
    "    return data_clean_foreign\n",
    "                "
   ]
  },
  {
   "cell_type": "code",
   "execution_count": 23,
   "metadata": {},
   "outputs": [],
   "source": [
    "google_en_set = check_char(google_clean, 0)"
   ]
  },
  {
   "cell_type": "code",
   "execution_count": 24,
   "metadata": {},
   "outputs": [],
   "source": [
    "apple_en_set = check_char(apple_app, 1)"
   ]
  },
  {
   "cell_type": "code",
   "execution_count": 25,
   "metadata": {},
   "outputs": [],
   "source": [
    "def delete_foreign_char(data_set, index, foreign_set):\n",
    "    data_clean = []\n",
    "    for row in data_set:\n",
    "        if row[0] not in foreign_set:\n",
    "            data_clean.append(row)\n",
    "    return data_clean"
   ]
  },
  {
   "cell_type": "code",
   "execution_count": 26,
   "metadata": {},
   "outputs": [
    {
     "data": {
      "text/plain": [
       "9614"
      ]
     },
     "execution_count": 26,
     "metadata": {},
     "output_type": "execute_result"
    }
   ],
   "source": [
    "google_clean_en = delete_foreign_char(google_clean, 0, google_en_set)\n",
    "len(google_clean_en)"
   ]
  },
  {
   "cell_type": "code",
   "execution_count": 27,
   "metadata": {},
   "outputs": [
    {
     "data": {
      "text/plain": [
       "6184"
      ]
     },
     "execution_count": 27,
     "metadata": {},
     "output_type": "execute_result"
    }
   ],
   "source": [
    "apple_clean_en = delete_foreign_char(apple_app, 0, apple_en_set)\n",
    "len(apple_clean_en)"
   ]
  },
  {
   "cell_type": "code",
   "execution_count": 28,
   "metadata": {},
   "outputs": [],
   "source": [
    "# seperate free apps \n",
    "def free_app(data_sets, index, free):\n",
    "    data_free = []\n",
    "    data_not_free = []\n",
    "    for row in data_sets:\n",
    "        price = row[index]\n",
    "        if price == free:\n",
    "            data_free.append(row)\n",
    "        else:\n",
    "            data_not_free.append(row)\n",
    "    return data_free\n",
    "            "
   ]
  },
  {
   "cell_type": "code",
   "execution_count": 29,
   "metadata": {},
   "outputs": [
    {
     "data": {
      "text/plain": [
       "8864"
      ]
     },
     "execution_count": 29,
     "metadata": {},
     "output_type": "execute_result"
    }
   ],
   "source": [
    "google_clean_en_free = free_app(google_clean_en, 7, '0')\n",
    "len(google_clean_en_free)"
   ]
  },
  {
   "cell_type": "code",
   "execution_count": 30,
   "metadata": {},
   "outputs": [
    {
     "data": {
      "text/plain": [
       "3222"
      ]
     },
     "execution_count": 30,
     "metadata": {},
     "output_type": "execute_result"
    }
   ],
   "source": [
    "apple_clean_en_free = free_app(apple_clean_en, 4, '0.0')\n",
    "len(apple_clean_en_free)"
   ]
  },
  {
   "cell_type": "markdown",
   "metadata": {},
   "source": [
    "#### Google Play App Profile"
   ]
  },
  {
   "cell_type": "code",
   "execution_count": 121,
   "metadata": {},
   "outputs": [],
   "source": [
    "# Create a function to profile genres. \n",
    "\n",
    "def genre_profile(data_sets, index1, index2, index3, index4):\n",
    "    genre_has = set()\n",
    "    genre_count = {}\n",
    "    genre_avg_review = {}\n",
    "    genre_avg_rating = {}\n",
    "    genre_avg_other = {}\n",
    "    for row in data_sets:\n",
    "        genre = row[index1]\n",
    "        review_count = int(row[index2])\n",
    "        if row[index3] == 'NaN':\n",
    "            rating = 0\n",
    "        elif row[index3] != 'NaN':\n",
    "            rating = float(row[index3])\n",
    "        other = row[index4].replace('+', '')\n",
    "        other = other.replace(',', '')\n",
    "        other = float(other)\n",
    "        if genre not in genre_has:\n",
    "            genre_has.add(genre)\n",
    "            genre_count[genre] = 1\n",
    "            genre_avg_review[genre] = review_count\n",
    "            genre_avg_rating[genre] = rating \n",
    "            genre_avg_other[genre] = other\n",
    "        else:\n",
    "            genre_count[genre] += 1\n",
    "            genre_avg_review[genre] += review_count\n",
    "            genre_avg_rating[genre] += rating\n",
    "            genre_avg_other[genre] += other\n",
    "            \n",
    "    for genre in genre_avg_review:\n",
    "        genre_avg_review[genre] /= genre_count[genre]\n",
    "        \n",
    "    for genre in genre_avg_rating:\n",
    "        genre_avg_rating[genre] /= genre_count[genre]\n",
    "    \n",
    "    for genre in genre_avg_other:\n",
    "        genre_avg_other[genre] /= genre_count[genre]\n",
    "            \n",
    "    return genre_count, genre_avg_review, genre_avg_rating, genre_avg_other"
   ]
  },
  {
   "cell_type": "code",
   "execution_count": 130,
   "metadata": {},
   "outputs": [],
   "source": [
    "google_genre_profile = genre_profile(google_clean_en_free, 1, 3, 2, 5)"
   ]
  },
  {
   "cell_type": "code",
   "execution_count": 99,
   "metadata": {},
   "outputs": [],
   "source": [
    "def sort_helper (dictionary):\n",
    "    display_table = []\n",
    "    for key in dictionary:\n",
    "        tuple_item = (round(dictionary[key],1), key)\n",
    "        display_table.append(tuple_item)\n",
    "    sorted_table = sorted(display_table, reverse = True)\n",
    "#     for entry in sorted_table:\n",
    "#         print(entry[1], ':', entry[0])\n",
    "    return sorted_table"
   ]
  },
  {
   "cell_type": "code",
   "execution_count": 100,
   "metadata": {},
   "outputs": [
    {
     "name": "stdout",
     "output_type": "stream",
     "text": [
      "[(1676, 'FAMILY'), (862, 'GAME'), (750, 'TOOLS'), (407, 'BUSINESS'), (346, 'LIFESTYLE'), (345, 'PRODUCTIVITY'), (328, 'FINANCE'), (313, 'MEDICAL'), (301, 'SPORTS'), (294, 'PERSONALIZATION')]\n"
     ]
    }
   ],
   "source": [
    "google_genre_count_sorted = sort_helper (google_genre_profile[0])\n",
    "print(google_genre_count_sorted[:10])"
   ]
  },
  {
   "cell_type": "code",
   "execution_count": 101,
   "metadata": {},
   "outputs": [
    {
     "name": "stdout",
     "output_type": "stream",
     "text": [
      "[(995608.5, 'COMMUNICATION'), (965831.0, 'SOCIAL'), (683523.8, 'GAME'), (425350.1, 'VIDEO_PLAYERS'), (404081.4, 'PHOTOGRAPHY'), (305732.9, 'TOOLS'), (301752.2, 'ENTERTAINMENT'), (223887.3, 'SHOPPING'), (181122.3, 'PERSONALIZATION'), (171250.8, 'WEATHER')]\n"
     ]
    }
   ],
   "source": [
    "google_genre_review_sorted = sort_helper (google_genre_profile[1])\n",
    "print(google_genre_review_sorted[:10])"
   ]
  },
  {
   "cell_type": "code",
   "execution_count": 102,
   "metadata": {},
   "outputs": [
    {
     "name": "stdout",
     "output_type": "stream",
     "text": [
      "[(4.3, 'EDUCATION'), (4.2, 'ART_AND_DESIGN'), (4.1, 'ENTERTAINMENT'), (4.0, 'PHOTOGRAPHY'), (4.0, 'GAME'), (4.0, 'COMICS'), (3.9, 'WEATHER'), (3.8, 'SHOPPING'), (3.7, 'VIDEO_PLAYERS'), (3.7, 'FAMILY')]\n"
     ]
    }
   ],
   "source": [
    "google_genre_rating_sorted = sort_helper (google_genre_profile[2])\n",
    "print(google_genre_rating_sorted[:10])"
   ]
  },
  {
   "cell_type": "code",
   "execution_count": 131,
   "metadata": {},
   "outputs": [
    {
     "name": "stdout",
     "output_type": "stream",
     "text": [
      "[(38456119.2, 'COMMUNICATION'), (24727872.5, 'VIDEO_PLAYERS'), (23253652.1, 'SOCIAL'), (17840110.4, 'PHOTOGRAPHY'), (16787331.3, 'PRODUCTIVITY'), (15588015.6, 'GAME'), (13984077.7, 'TRAVEL_AND_LOCAL'), (11640705.9, 'ENTERTAINMENT'), (10801391.3, 'TOOLS'), (9549178.5, 'NEWS_AND_MAGAZINES')]\n"
     ]
    }
   ],
   "source": [
    "google_genre_install_sorted = sort_helper (google_genre_profile[3])\n",
    "print(google_genre_install_sorted[:10])"
   ]
  },
  {
   "cell_type": "markdown",
   "metadata": {},
   "source": [
    "#### App Store App Profile "
   ]
  },
  {
   "cell_type": "code",
   "execution_count": 122,
   "metadata": {},
   "outputs": [],
   "source": [
    "apple_genre_profile = genre_profile(apple_clean_en_free, 11, 5, 7, 10)"
   ]
  },
  {
   "cell_type": "code",
   "execution_count": 123,
   "metadata": {},
   "outputs": [
    {
     "name": "stdout",
     "output_type": "stream",
     "text": [
      "[(1874, 'Games'), (254, 'Entertainment'), (160, 'Photo & Video'), (118, 'Education'), (106, 'Social Networking'), (84, 'Shopping'), (81, 'Utilities'), (69, 'Sports'), (66, 'Music'), (65, 'Health & Fitness')]\n"
     ]
    }
   ],
   "source": [
    "apple_genre_count_sorted = sort_helper (apple_genre_profile[0])\n",
    "print(apple_genre_count_sorted[:10])"
   ]
  },
  {
   "cell_type": "code",
   "execution_count": 124,
   "metadata": {},
   "outputs": [
    {
     "name": "stdout",
     "output_type": "stream",
     "text": [
      "[(86090.3, 'Navigation'), (74942.1, 'Reference'), (71548.3, 'Social Networking'), (57326.5, 'Music'), (52279.9, 'Weather'), (39758.5, 'Book'), (33333.9, 'Food & Drink'), (31467.9, 'Finance'), (28441.5, 'Photo & Video'), (28243.8, 'Travel')]\n"
     ]
    }
   ],
   "source": [
    "apple_genre_review_sorted = sort_helper (apple_genre_profile[1])\n",
    "print(apple_genre_review_sorted[:10])"
   ]
  },
  {
   "cell_type": "code",
   "execution_count": 125,
   "metadata": {},
   "outputs": [
    {
     "name": "stdout",
     "output_type": "stream",
     "text": [
      "[(4.1, 'Catalogs'), (4.0, 'Shopping'), (4.0, 'Productivity'), (4.0, 'Games'), (4.0, 'Business'), (3.9, 'Photo & Video'), (3.9, 'Music'), (3.8, 'Navigation'), (3.8, 'Health & Fitness'), (3.7, 'Reference')]\n"
     ]
    }
   ],
   "source": [
    "apple_genre_rating_sorted = sort_helper (apple_genre_profile[2])\n",
    "print(apple_genre_rating_sorted[:10])"
   ]
  },
  {
   "cell_type": "code",
   "execution_count": 128,
   "metadata": {},
   "outputs": [
    {
     "name": "stdout",
     "output_type": "stream",
     "text": [
      "[(13.2, 'Medical'), (11.4, 'News'), (10.0, 'Social Networking'), (8.1, 'Entertainment'), (8.0, 'Lifestyle'), (7.9, 'Music'), (7.7, 'Reference'), (7.7, 'Book'), (7.3, 'Sports'), (7.2, 'Catalogs')]\n"
     ]
    }
   ],
   "source": [
    "apple_genre_other_sorted = sort_helper (apple_genre_profile[3])\n",
    "print(apple_genre_other_sorted[:10])"
   ]
  },
  {
   "cell_type": "code",
   "execution_count": 118,
   "metadata": {},
   "outputs": [
    {
     "data": {
      "text/plain": [
       "12.0"
      ]
     },
     "execution_count": 118,
     "metadata": {},
     "output_type": "execute_result"
    }
   ],
   "source": [
    "test = apple_app[2][10].replace('+', '')\n",
    "test = test.replace(',', '')\n",
    "test = float(test)\n",
    "type(test)\n",
    "test"
   ]
  }
 ],
 "metadata": {
  "kernelspec": {
   "display_name": "Python 3",
   "language": "python",
   "name": "python3"
  },
  "language_info": {
   "codemirror_mode": {
    "name": "ipython",
    "version": 3
   },
   "file_extension": ".py",
   "mimetype": "text/x-python",
   "name": "python",
   "nbconvert_exporter": "python",
   "pygments_lexer": "ipython3",
   "version": "3.7.6"
  }
 },
 "nbformat": 4,
 "nbformat_minor": 4
}
